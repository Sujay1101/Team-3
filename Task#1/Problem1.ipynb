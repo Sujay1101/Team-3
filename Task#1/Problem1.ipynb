{
 "cells": [
  {
   "cell_type": "code",
   "execution_count": null,
   "metadata": {},
   "outputs": [],
   "source": [
    "#Code finds a sparse solution to Ax = y using gradient descent algorithm\n",
    "# Cost function = 1/2 * ||Ax - y||^2 + special(x)\n",
    "# special(x) is 20 for elements in x with absolute value greater than 0.2 and 0 otherwise"
   ]
  },
  {
   "cell_type": "code",
   "execution_count": 54,
   "metadata": {},
   "outputs": [],
   "source": [
    "import scipy.io\n",
    "import numpy as np"
   ]
  },
  {
   "cell_type": "code",
   "execution_count": 145,
   "metadata": {},
   "outputs": [],
   "source": [
    "def special(a):\n",
    "    \"\"\"\n",
    "    Arguments\n",
    "    a - vector\n",
    "    \n",
    "    Output\n",
    "    elements with absolute value greater than 0.2 in a replaced by 20. Other elements replace by zero\"\"\"\n",
    "    \n",
    "    threshold = 0.25\n",
    "    a[abs(a) > threshold] = 20\n",
    "    a[abs(a) < threshold] = 0\n",
    "    return a"
   ]
  },
  {
   "cell_type": "code",
   "execution_count": 183,
   "metadata": {},
   "outputs": [],
   "source": [
    "def main():\n",
    "    variables_mat = scipy.io.loadmat('task1.mat')\n",
    "    A = variables_mat['A']\n",
    "    y = variables_mat['y']\n",
    "    \n",
    "    \n",
    "    #Number of iterations of gradient_descent\n",
    "    num_iterations = 10\n",
    "    \n",
    "    #learning_rate of gradient_descent\n",
    "    learning_rate = 0.1\n",
    "    \n",
    "    #Initialising X and dJ/dX \n",
    "    X = np.zeros((A.shape[1], 1))\n",
    "    dX = np.zeros((A.shape[1], 1))\n",
    "    \n",
    "    for i in range(num_iterations):\n",
    "        dX = A.T @ (A @ X - y) + special(X)\n",
    "        X = X - learning_rate * dX\n",
    "        \n",
    "    print(np.linalg.norm(A @ X - y))\n",
    "    print(np.linalg.norm(X))"
   ]
  },
  {
   "cell_type": "code",
   "execution_count": 184,
   "metadata": {},
   "outputs": [
    {
     "name": "stdout",
     "output_type": "stream",
     "text": [
      "1.9459505969796589\n",
      "0.3156076460236832\n"
     ]
    }
   ],
   "source": [
    "main()"
   ]
  },
  {
   "cell_type": "code",
   "execution_count": null,
   "metadata": {},
   "outputs": [],
   "source": []
  }
 ],
 "metadata": {
  "kernelspec": {
   "display_name": "Python 3",
   "language": "python",
   "name": "python3"
  },
  "language_info": {
   "codemirror_mode": {
    "name": "ipython",
    "version": 3
   },
   "file_extension": ".py",
   "mimetype": "text/x-python",
   "name": "python",
   "nbconvert_exporter": "python",
   "pygments_lexer": "ipython3",
   "version": "3.7.4"
  }
 },
 "nbformat": 4,
 "nbformat_minor": 2
}
