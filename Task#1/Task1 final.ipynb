{
 "cells": [
  {
   "cell_type": "code",
   "execution_count": 1,
   "metadata": {},
   "outputs": [],
   "source": [
    "import scipy.io\n",
    "import numpy as np"
   ]
  },
  {
   "cell_type": "code",
   "execution_count": 2,
   "metadata": {},
   "outputs": [],
   "source": [
    "#Function for finding minimum norm\n",
    "def min_norm(A, b, projections):\n",
    "    difference = A - projections.T * b\n",
    "    norms = (np.linalg.norm(difference, axis = 0))\n",
    "    min_norm_index = norms.argmin()\n",
    "    return (projections[min_norm_index], min_norm_index)"
   ]
  },
  {
   "cell_type": "code",
   "execution_count": 3,
   "metadata": {},
   "outputs": [],
   "source": [
    "def main():\n",
    "    \n",
    "    #Loading mat file variables\n",
    "    variables = scipy.io.loadmat('task1.mat')\n",
    "    A = variables['A']\n",
    "    y = variables['y']\n",
    "    \n",
    "    #Initialsing x and residue\n",
    "    x = np.zeros((A.shape[1], 1))\n",
    "    residue = y\n",
    "    while np.linalg.norm(residue) > 1.1:\n",
    "\n",
    "        #Projection coefficients of residue on columns of A\n",
    "        column_norms = np.linalg.norm(A, axis = 0, ord = 2).reshape(-1,1)\n",
    "    \n",
    "        #projection_coeffs = np.divide(A.T @ residue , column_norms)\n",
    "        projection_coeffs = A.T @ residue\n",
    "        #minimum difference coefficient\n",
    "        #print(A.shape, residue.shape, projection)\n",
    "        #min_norm_coeff, min_norm_ind = min_norm(A, residue, projection_coeffs)\n",
    "        \n",
    "        key_coeff = np.argmax((projection_coeffs), axis = 0)\n",
    "        max_coeff = projection_coeffs[key_coeff]\n",
    "        \n",
    "        #Updating residue\n",
    "        residue = residue - max_coeff * A[:, key_coeff]\n",
    "        \n",
    "        #Assigning to x\n",
    "        x[key_coeff] += max_coeff\n",
    "        \n",
    "    print(x)"
   ]
  },
  {
   "cell_type": "code",
   "execution_count": null,
   "metadata": {},
   "outputs": [],
   "source": [
    "main()"
   ]
  },
  {
   "cell_type": "code",
   "execution_count": null,
   "metadata": {},
   "outputs": [],
   "source": []
  }
 ],
 "metadata": {
  "kernelspec": {
   "display_name": "Python 3",
   "language": "python",
   "name": "python3"
  },
  "language_info": {
   "codemirror_mode": {
    "name": "ipython",
    "version": 3
   },
   "file_extension": ".py",
   "mimetype": "text/x-python",
   "name": "python",
   "nbconvert_exporter": "python",
   "pygments_lexer": "ipython3",
   "version": "3.8.5"
  }
 },
 "nbformat": 4,
 "nbformat_minor": 4
}
