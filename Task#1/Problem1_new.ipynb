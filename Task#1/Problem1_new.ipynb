{
 "cells": [
  {
   "cell_type": "code",
   "execution_count": 5,
   "metadata": {},
   "outputs": [],
   "source": [
    "import numpy as np\n",
    "import scipy.io\n"
   ]
  },
  {
   "cell_type": "code",
   "execution_count": 6,
   "metadata": {},
   "outputs": [],
   "source": [
    "def mini_l0_norm(A, b, r):\n",
    "    \"\"\"Function that implements match point algorithm\n",
    "    Arguments \n",
    "    A is the set of basis vectors\n",
    "    b is the vector whose sparse representation we want to find\n",
    "    r is the number of non-zero coefficients in representation\n",
    "    \n",
    "    Output\n",
    "    x - sparse representation of b\"\"\"\n",
    "    x = np.zeros((A.shape[1], 1))\n",
    "    residue = b\n",
    "    while np.count_nonzero(x) != r:\n",
    "        projection_numerator = A.T @ residue\n",
    "        projection_denominator = (A.T @ A)[np.arange(A.shape[1]), np.arange(A.shape[1])].reshape(-1,1)\n",
    "        coefficients = projection_numerator / projection_denominator\n",
    "        max_ind = coefficients.argmax()\n",
    "        max_coeff = coefficients[max_ind]\n",
    "        residue -= max_coeff * A[:, max_ind].reshape(-1,1)\n",
    "        x[max_ind, 0] = max_coeff\n",
    "    return x"
   ]
  },
  {
   "cell_type": "code",
   "execution_count": 9,
   "metadata": {},
   "outputs": [],
   "source": [
    "def main():\n",
    "    variables = scipy.io.loadmat('task1.mat')\n",
    "    A = variables['A']\n",
    "    y = variables['y']\n",
    "    non_zero_elements = 16\n",
    "    x = mini_l0_norm(A, y, non_zero_elements) \n",
    "    print(x)"
   ]
  },
  {
   "cell_type": "code",
   "execution_count": 10,
   "metadata": {},
   "outputs": [
    {
     "name": "stdout",
     "output_type": "stream",
     "text": [
      "[[0.73919626]\n",
      " [0.        ]\n",
      " [0.        ]\n",
      " [0.        ]\n",
      " [0.        ]\n",
      " [0.        ]\n",
      " [0.        ]\n",
      " [0.        ]\n",
      " [0.        ]\n",
      " [0.        ]\n",
      " [0.        ]\n",
      " [0.        ]\n",
      " [0.08856042]\n",
      " [0.        ]\n",
      " [0.04515807]\n",
      " [0.        ]\n",
      " [0.        ]\n",
      " [0.        ]\n",
      " [0.        ]\n",
      " [0.        ]\n",
      " [0.        ]\n",
      " [0.        ]\n",
      " [0.        ]\n",
      " [0.        ]\n",
      " [0.08683531]\n",
      " [0.        ]\n",
      " [0.        ]\n",
      " [0.        ]\n",
      " [0.08237169]\n",
      " [0.        ]\n",
      " [1.35822363]\n",
      " [0.        ]\n",
      " [0.28942966]\n",
      " [0.        ]\n",
      " [0.        ]\n",
      " [0.        ]\n",
      " [0.        ]\n",
      " [0.        ]\n",
      " [0.        ]\n",
      " [0.04258201]\n",
      " [0.06391235]\n",
      " [0.        ]\n",
      " [0.52936724]\n",
      " [0.        ]\n",
      " [0.        ]\n",
      " [0.        ]\n",
      " [0.        ]\n",
      " [0.        ]\n",
      " [0.        ]\n",
      " [0.        ]\n",
      " [0.        ]\n",
      " [0.        ]\n",
      " [0.        ]\n",
      " [0.0943187 ]\n",
      " [0.044039  ]\n",
      " [0.        ]\n",
      " [0.10939277]\n",
      " [0.09247884]\n",
      " [0.        ]\n",
      " [0.04156955]\n",
      " [0.        ]\n",
      " [0.        ]\n",
      " [0.057738  ]\n",
      " [0.        ]]\n"
     ]
    }
   ],
   "source": [
    "main()"
   ]
  },
  {
   "cell_type": "code",
   "execution_count": null,
   "metadata": {},
   "outputs": [],
   "source": []
  }
 ],
 "metadata": {
  "kernelspec": {
   "display_name": "Python 3",
   "language": "python",
   "name": "python3"
  },
  "language_info": {
   "codemirror_mode": {
    "name": "ipython",
    "version": 3
   },
   "file_extension": ".py",
   "mimetype": "text/x-python",
   "name": "python",
   "nbconvert_exporter": "python",
   "pygments_lexer": "ipython3",
   "version": "3.7.4"
  }
 },
 "nbformat": 4,
 "nbformat_minor": 2
}
