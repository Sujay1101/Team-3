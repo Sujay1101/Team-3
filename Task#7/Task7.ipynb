{
 "cells": [
  {
   "cell_type": "code",
   "execution_count": 37,
   "metadata": {},
   "outputs": [],
   "source": [
    "import numpy as np\n",
    "import cv2\n",
    "from skimage.measure import compare_ssim as ssim\n",
    "from matplotlib import pyplot as plt\n",
    "import pywt\n",
    "import os\n",
    "import sys\n",
    "import scipy.stats\n",
    "from scipy import stats "
   ]
  },
  {
   "cell_type": "code",
   "execution_count": 38,
   "metadata": {},
   "outputs": [],
   "source": [
    "im = cv2.imread('Task4.tif',0)"
   ]
  },
  {
   "cell_type": "code",
   "execution_count": 53,
   "metadata": {},
   "outputs": [],
   "source": [
    "x=0\n",
    "y=0\n",
    "arr=np.zeros((128,128))\n",
    "for n in range(63):\n",
    "    y=0\n",
    "    x=x+2\n",
    "    for m in range(63):\n",
    "        s=im[m][n]/2+im[m][n+1]/2\n",
    "        r=im[m+1][n]/2+im[m+1][n+1]/2\n",
    "        q=im[m][n]/2+im[m+1][n]/2\n",
    "        arr[y][x]=im[m][n]\n",
    "        arr[y][x+1]=s\n",
    "        y=y+1\n",
    "        arr[y][x]=q\n",
    "        arr[y][x+1]=r\n",
    "        y=y+1\n",
    "        "
   ]
  },
  {
   "cell_type": "code",
   "execution_count": 54,
   "metadata": {},
   "outputs": [
    {
     "data": {
      "text/plain": [
       "(128, 128)"
      ]
     },
     "execution_count": 54,
     "metadata": {},
     "output_type": "execute_result"
    }
   ],
   "source": [
    "arr.shape"
   ]
  },
  {
   "cell_type": "code",
   "execution_count": 55,
   "metadata": {},
   "outputs": [],
   "source": [
    "im=cv2.resize(arr, dsize=(128, 128), interpolation=cv2.INTER_NEAREST)"
   ]
  },
  {
   "cell_type": "code",
   "execution_count": 56,
   "metadata": {},
   "outputs": [],
   "source": [
    "from math import log10, sqrt \n",
    "import cv2 \n",
    "import numpy as np \n",
    "  \n",
    "def PSNR(original, compressed): \n",
    "    mse = np.mean((original - compressed) ** 2) \n",
    "    if(mse == 0):  # MSE is zero means no noise is present in the signal . \n",
    "                  # Therefore PSNR have no importance. \n",
    "        return 100\n",
    "    max_pixel = 255.0\n",
    "    psnr = 20 * log10(max_pixel / sqrt(mse)) \n",
    "    return psnr \n",
    "  \n",
    "def main(): \n",
    "     value = PSNR(arr,im) \n",
    "     print(f\"PSNR value is {value} dB\") \n"
   ]
  },
  {
   "cell_type": "code",
   "execution_count": 57,
   "metadata": {},
   "outputs": [
    {
     "name": "stdout",
     "output_type": "stream",
     "text": [
      "PSNR value is 100 dB\n"
     ]
    }
   ],
   "source": [
    "main()"
   ]
  },
  {
   "cell_type": "code",
   "execution_count": null,
   "metadata": {},
   "outputs": [],
   "source": [
    "cv2.imwrite('/Users/to/destination/image.png',image)\n",
    "C:\\Users\\VINEETH NARAYAN\\Hackathon\\Task7"
   ]
  }
 ],
 "metadata": {
  "kernelspec": {
   "display_name": "Python 3",
   "language": "python",
   "name": "python3"
  },
  "language_info": {
   "codemirror_mode": {
    "name": "ipython",
    "version": 3
   },
   "file_extension": ".py",
   "mimetype": "text/x-python",
   "name": "python",
   "nbconvert_exporter": "python",
   "pygments_lexer": "ipython3",
   "version": "3.7.4"
  }
 },
 "nbformat": 4,
 "nbformat_minor": 2
}
