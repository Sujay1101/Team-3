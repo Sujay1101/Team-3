{
 "cells": [
  {
   "cell_type": "code",
   "execution_count": 90,
   "metadata": {},
   "outputs": [],
   "source": [
    "# The program converts 2D image to sparse representation in Wavelet domain"
   ]
  },
  {
   "cell_type": "code",
   "execution_count": 91,
   "metadata": {},
   "outputs": [],
   "source": [
    "import pywt\n",
    "import cv2 as cv\n",
    "import scipy.io\n",
    "import numpy as np"
   ]
  },
  {
   "cell_type": "code",
   "execution_count": 92,
   "metadata": {},
   "outputs": [],
   "source": [
    "def soft_threshold(signal, threshold):\n",
    "    \"\"\"\n",
    "    Function returns soft thresholding output of signal\n",
    "    Arguments \n",
    "    signal is an n dimensional array\n",
    "    threshold is a constant\n",
    "    \n",
    "    Output\n",
    "    array obtained on soft thresholding of signal\n",
    "    \"\"\"\n",
    "    below_threshold = abs(signal) < threshold\n",
    "    signal[below_threshold] = 0\n",
    "    signal = signal - np.sign(signal) * threshold\n",
    "    return signal"
   ]
  },
  {
   "cell_type": "code",
   "execution_count": 93,
   "metadata": {},
   "outputs": [],
   "source": [
    "def main():\n",
    "    #Variables_dict contains all the variables in the .mat file\n",
    "    variables_dict = scipy.io.loadmat('task2.mat')\n",
    "    \n",
    "    #a,b,c,d are arrays representing wavelet coefficients\n",
    "    a,(b,c,d) = pywt.dwt2(variables_dict['Image'], 'Haar', mode = 'symmetric')\n",
    "    \n",
    "    threshold = 0.3\n",
    "    \n",
    "    sparse_a = soft_threshold(a, threshold)\n",
    "    sparse_b = soft_threshold(b, threshold)\n",
    "    sparse_c = soft_threshold(c, threshold)\n",
    "    sparse_d = soft_threshold(d, threshold)\n",
    "    \n",
    "    #Combining the wavelet coefficients into one array\n",
    "    sparse_vector = np.hstack((np.vstack((sparse_a, sparse_c)), np.vstack((sparse_b, sparse_d))))\n",
    "    return sparse_vector"
   ]
  },
  {
   "cell_type": "code",
   "execution_count": 94,
   "metadata": {},
   "outputs": [],
   "source": [
    "sparse_vector = main()"
   ]
  },
  {
   "cell_type": "code",
   "execution_count": 19,
   "metadata": {},
   "outputs": [],
   "source": []
  },
  {
   "cell_type": "code",
   "execution_count": null,
   "metadata": {},
   "outputs": [],
   "source": []
  }
 ],
 "metadata": {
  "kernelspec": {
   "display_name": "Python 3",
   "language": "python",
   "name": "python3"
  },
  "language_info": {
   "codemirror_mode": {
    "name": "ipython",
    "version": 3
   },
   "file_extension": ".py",
   "mimetype": "text/x-python",
   "name": "python",
   "nbconvert_exporter": "python",
   "pygments_lexer": "ipython3",
   "version": "3.7.4"
  }
 },
 "nbformat": 4,
 "nbformat_minor": 2
}
