{
 "cells": [
  {
   "cell_type": "code",
   "execution_count": 90,
   "metadata": {},
   "outputs": [],
   "source": [
    "# The program converts 2D image to sparse representation in Wavelet domain"
   ]
  },
  {
   "cell_type": "code",
   "execution_count": 99,
   "metadata": {},
   "outputs": [],
   "source": [
    "import pywt\n",
    "import cv2 as cv\n",
    "import scipy.io\n",
    "import numpy as np\n",
    "import matplotlib.pyplot as plt"
   ]
  },
  {
   "cell_type": "code",
   "execution_count": 100,
   "metadata": {},
   "outputs": [],
   "source": [
    "def soft_threshold(signal, threshold):\n",
    "    \"\"\"\n",
    "    Function returns soft thresholding output of signal\n",
    "    Arguments \n",
    "    signal is an n dimensional array\n",
    "    threshold is a constant\n",
    "    \n",
    "    Output\n",
    "    array obtained on soft thresholding of signal\n",
    "    \"\"\"\n",
    "    below_threshold = abs(signal) < threshold\n",
    "    signal[below_threshold] = 0\n",
    "    signal = signal - np.sign(signal) * threshold\n",
    "    return signal"
   ]
  },
  {
   "cell_type": "code",
   "execution_count": 111,
   "metadata": {},
   "outputs": [],
   "source": [
    "def main():\n",
    "    #Variables_dict contains all the variables in the .mat file\n",
    "    variables_dict = scipy.io.loadmat('task2.mat')\n",
    "    \n",
    "    #a,b,c,d are arrays representing wavelet coefficients\n",
    "    a,(b,c,d) = pywt.dwt2(variables_dict['Image'], 'Haar', mode = 'symmetric')\n",
    "    \n",
    "    threshold = 0.4\n",
    "    \n",
    "    sparse_a = soft_threshold(a, threshold)\n",
    "    sparse_b = soft_threshold(b, threshold)\n",
    "    sparse_c = soft_threshold(c, threshold)\n",
    "    sparse_d = soft_threshold(d, threshold)\n",
    "    \n",
    "    #Combining the wavelet coefficients into one array\n",
    "    sparse_vector = np.hstack((np.vstack((sparse_a, sparse_c)), np.vstack((sparse_b, sparse_d))))\n",
    "    return sparse_vector"
   ]
  },
  {
   "cell_type": "code",
   "execution_count": 112,
   "metadata": {},
   "outputs": [
    {
     "name": "stdout",
     "output_type": "stream",
     "text": [
      "[[ 0.1  0.1  0.  -0.1 -0.1  0. ]\n",
      " [ 0.1  1.1  0.  -0.1 -0.1  0. ]\n",
      " [ 0.   0.   0.   0.   0.   0. ]\n",
      " [-0.1 -0.1  0.   0.1  0.1  0. ]\n",
      " [-0.1  0.1  0.   0.1  0.1  0. ]\n",
      " [ 0.   0.   0.   0.   0.   0. ]]\n"
     ]
    },
    {
     "data": {
      "text/plain": [
       "<matplotlib.image.AxesImage at 0x18fc4f54b88>"
      ]
     },
     "execution_count": 112,
     "metadata": {},
     "output_type": "execute_result"
    },
    {
     "data": {
      "image/png": "[encoded data removed]",
      "text/plain": [
       "<Figure size 432x288 with 1 Axes>"
      ]
     },
     "metadata": {
      "needs_background": "light"
     },
     "output_type": "display_data"
    }
   ],
   "source": [
    "sparse_vector = main()\n",
    "print(sparse_vector)\n",
    "plt.imshow(sparse_vector)"
   ]
  },
  {
   "cell_type": "code",
   "execution_count": null,
   "metadata": {},
   "outputs": [],
   "source": []
  },
  {
   "cell_type": "code",
   "execution_count": null,
   "metadata": {},
   "outputs": [],
   "source": []
  }
 ],
 "metadata": {
  "kernelspec": {
   "display_name": "Python 3",
   "language": "python",
   "name": "python3"
  },
  "language_info": {
   "codemirror_mode": {
    "name": "ipython",
    "version": 3
   },
   "file_extension": ".py",
   "mimetype": "text/x-python",
   "name": "python",
   "nbconvert_exporter": "python",
   "pygments_lexer": "ipython3",
   "version": "3.7.4"
  }
 },
 "nbformat": 4,
 "nbformat_minor": 2
}
