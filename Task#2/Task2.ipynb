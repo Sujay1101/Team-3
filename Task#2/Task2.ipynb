{
 "cells": [
  {
   "cell_type": "code",
   "execution_count": 136,
   "metadata": {},
   "outputs": [],
   "source": [
    "import cv2 as cv\n",
    "import scipy.io\n",
    "import numpy as np\n",
    "import matplotlib.pyplot as plt\n",
    "\n",
    "\n",
    "\n",
    "\n",
    "    \n",
    "    "
   ]
  },
  {
   "cell_type": "code",
   "execution_count": 137,
   "metadata": {},
   "outputs": [],
   "source": [
    "def mini_l0_norm(A, b, r):\n",
    "    \"\"\"Function that implements match point algorithm\n",
    "    Arguments \n",
    "    A is the set of basis vectors\n",
    "    b is the vector whose sparse representation we want to find\n",
    "    r is the number of non-zero coefficients in representation\n",
    "    \n",
    "    Output\n",
    "    x - sparse representation of b\"\"\"\n",
    "    x = np.zeros((A.shape[1], 1))\n",
    "    residue = b\n",
    "    while np.count_nonzero(x) <= 2:\n",
    "        projection_numerator = A.T @ residue\n",
    "        projection_denominator = (A.T @ A)[np.arange(A.shape[1]), np.arange(A.shape[1])].reshape(-1,1)\n",
    "        coefficients = projection_numerator / projection_denominator\n",
    "        max_ind = coefficients.argmax()\n",
    "        max_coeff = coefficients[max_ind]\n",
    "        t=max_coeff * A[:, max_ind].reshape(-1,1)\n",
    "        t=t.astype('uint8')\n",
    "        residue -= t\n",
    "        x[max_ind, 0] = max_coeff\n",
    "    return x"
   ]
  },
  {
   "cell_type": "code",
   "execution_count": 138,
   "metadata": {},
   "outputs": [],
   "source": [
    "v= scipy.io.loadmat('task2.mat')\n",
    "a= v['A']\n",
    "im= v['Image']\n",
    "non_zero_elements = 5\n",
    "ans=np.zeros((25,1))\n",
    "img= im.reshape((25,1))\n",
    "A=a.reshape((25,256))\n"
   ]
  },
  {
   "cell_type": "code",
   "execution_count": null,
   "metadata": {},
   "outputs": [],
   "source": [
    "ans = mini_l0_norm(A, img, non_zero_elements) \n",
    "print(ans)\n"
   ]
  },
  {
   "cell_type": "code",
   "execution_count": null,
   "metadata": {},
   "outputs": [],
   "source": []
  }
 ],
 "metadata": {
  "kernelspec": {
   "display_name": "Python 3",
   "language": "python",
   "name": "python3"
  },
  "language_info": {
   "codemirror_mode": {
    "name": "ipython",
    "version": 3
   },
   "file_extension": ".py",
   "mimetype": "text/x-python",
   "name": "python",
   "nbconvert_exporter": "python",
   "pygments_lexer": "ipython3",
   "version": "3.7.4"
  }
 },
 "nbformat": 4,
 "nbformat_minor": 2
}
